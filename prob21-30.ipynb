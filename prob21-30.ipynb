{
 "cells": [
  {
   "cell_type": "markdown",
   "id": "a40e1e51",
   "metadata": {},
   "source": [
    "#### Problem 21: Amicable Numbers"
   ]
  },
  {
   "cell_type": "code",
   "execution_count": 1,
   "id": "de2443ef",
   "metadata": {},
   "outputs": [
    {
     "name": "stdout",
     "output_type": "stream",
     "text": [
      "31626\n"
     ]
    }
   ],
   "source": [
    "from some_functions import factorsList\n",
    "\n",
    "max = 10000\n",
    "res = 0\n",
    "\n",
    "for n in range(max+1):\n",
    "    \n",
    "    n_fac_sum, b_fac_sum = 0, 0\n",
    "    n_fac = factorsList(n)[:-1]\n",
    "    for i in n_fac: n_fac_sum += i\n",
    "    \n",
    "    if n_fac_sum <= max and n_fac_sum != n:\n",
    "        b_fac = factorsList(n_fac_sum)[:-1]\n",
    "        for j in b_fac: b_fac_sum += j\n",
    "        if b_fac_sum == n: res = res + n + n_fac_sum\n",
    "\n",
    "res //= 2 # adds each amicable pair twice\n",
    "print(res)"
   ]
  },
  {
   "cell_type": "markdown",
   "id": "2cb60436",
   "metadata": {},
   "source": [
    "#### Problem 22: Names Scores"
   ]
  },
  {
   "cell_type": "code",
   "execution_count": 2,
   "id": "d974093f",
   "metadata": {},
   "outputs": [
    {
     "name": "stdout",
     "output_type": "stream",
     "text": [
      "871198282\n"
     ]
    }
   ],
   "source": [
    "from some_functions import selectSort\n",
    "\n",
    "# read text file and sort\n",
    "for line in open('0022_names.txt', 'r'):\n",
    "    name_list = line.split('\",\"')\n",
    "\n",
    "name_list[0] = name_list[0][1:]\n",
    "name_list[-1] = name_list[-1][:-1]\n",
    "name_list = selectSort(name_list)\n",
    "\n",
    "# compute alphabetical value\n",
    "name_scores = []\n",
    "for i, name in enumerate(name_list):\n",
    "    alph_val = 0\n",
    "    for j in range(len(name)):\n",
    "        alph_val += ord(name[j])-64\n",
    "    name_scores.append(alph_val*(i+1))\n",
    "\n",
    "# compute result\n",
    "res = 0\n",
    "for score in name_scores: res += score\n",
    "print(res)"
   ]
  },
  {
   "cell_type": "markdown",
   "id": "bc5dfc3c",
   "metadata": {},
   "source": [
    "#### Problem 23: Non-Abundant Sums"
   ]
  },
  {
   "cell_type": "code",
   "execution_count": 3,
   "id": "bd2ceb75",
   "metadata": {},
   "outputs": [],
   "source": [
    "from some_functions import factorsList\n",
    "\n",
    "cap = 28123\n",
    "\n",
    "# check abundant\n",
    "def checkAbundant(n):\n",
    "    fac_sum = 0\n",
    "    for fac in factorsList(n)[:-1]: fac_sum += fac\n",
    "    return fac_sum > n\n",
    "\n",
    "# find all abundant nums below cap\n",
    "abundant_nums = []\n",
    "for i in range(1, cap+1): \n",
    "    if checkAbundant(i): abundant_nums.append(i)"
   ]
  }
 ],
 "metadata": {
  "kernelspec": {
   "display_name": "base",
   "language": "python",
   "name": "python3"
  },
  "language_info": {
   "codemirror_mode": {
    "name": "ipython",
    "version": 3
   },
   "file_extension": ".py",
   "mimetype": "text/x-python",
   "name": "python",
   "nbconvert_exporter": "python",
   "pygments_lexer": "ipython3",
   "version": "3.12.4"
  }
 },
 "nbformat": 4,
 "nbformat_minor": 5
}
