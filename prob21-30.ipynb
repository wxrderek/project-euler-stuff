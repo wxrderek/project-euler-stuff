{
 "cells": [
  {
   "cell_type": "markdown",
   "id": "a40e1e51",
   "metadata": {},
   "source": [
    "#### Problem 21: Amicable Numbers"
   ]
  },
  {
   "cell_type": "code",
   "execution_count": 1,
   "id": "de2443ef",
   "metadata": {},
   "outputs": [
    {
     "name": "stdout",
     "output_type": "stream",
     "text": [
      "31626\n"
     ]
    }
   ],
   "source": [
    "from some_functions import factorsList\n",
    "\n",
    "max = 10000\n",
    "res = 0\n",
    "\n",
    "for n in range(max+1):\n",
    "    \n",
    "    n_fac_sum, b_fac_sum = 0, 0\n",
    "    n_fac = factorsList(n)[:-1]\n",
    "    for i in n_fac: n_fac_sum += i\n",
    "    \n",
    "    if n_fac_sum <= max and n_fac_sum != n:\n",
    "        b_fac = factorsList(n_fac_sum)[:-1]\n",
    "        for j in b_fac: b_fac_sum += j\n",
    "        if b_fac_sum == n: res = res + n + n_fac_sum\n",
    "\n",
    "res //= 2 # adds each amicable pair twice\n",
    "print(res)"
   ]
  },
  {
   "cell_type": "markdown",
   "id": "2cb60436",
   "metadata": {},
   "source": [
    "#### Problem 22: Names Scores"
   ]
  },
  {
   "cell_type": "code",
   "execution_count": 2,
   "id": "d974093f",
   "metadata": {},
   "outputs": [
    {
     "name": "stdout",
     "output_type": "stream",
     "text": [
      "871198282\n"
     ]
    }
   ],
   "source": [
    "from some_functions import selectSort\n",
    "\n",
    "# read text file and sort\n",
    "for line in open('0022_names.txt', 'r'):\n",
    "    name_list = line.split('\",\"')\n",
    "\n",
    "name_list[0] = name_list[0][1:]\n",
    "name_list[-1] = name_list[-1][:-1]\n",
    "name_list = selectSort(name_list)\n",
    "\n",
    "# compute alphabetical value\n",
    "name_scores = []\n",
    "for i, name in enumerate(name_list):\n",
    "    alph_val = 0\n",
    "    for j in range(len(name)):\n",
    "        alph_val += ord(name[j])-64\n",
    "    name_scores.append(alph_val*(i+1))\n",
    "\n",
    "# compute result\n",
    "res = 0\n",
    "for score in name_scores: res += score\n",
    "print(res)"
   ]
  },
  {
   "cell_type": "markdown",
   "id": "bc5dfc3c",
   "metadata": {},
   "source": [
    "#### Problem 23: Non-Abundant Sums"
   ]
  },
  {
   "cell_type": "markdown",
   "id": "bc8acc41",
   "metadata": {},
   "source": [
    "Note: two algorithms - first algorithm implements complement style checking, second algorithm brute-force computes all abundant sums. "
   ]
  },
  {
   "cell_type": "code",
   "execution_count": 15,
   "id": "05167f7c",
   "metadata": {},
   "outputs": [
    {
     "name": "stdout",
     "output_type": "stream",
     "text": [
      "4179871\n"
     ]
    }
   ],
   "source": [
    "from some_functions import factorsList\n",
    "\n",
    "cap = 28123\n",
    "\n",
    "# check abundant\n",
    "def checkAbundant(n):\n",
    "    fac_sum = 0\n",
    "    for fac in factorsList(n)[:-1]: fac_sum += fac\n",
    "    return fac_sum > n\n",
    "\n",
    "# store abundant nums and boolean checklist of all nums\n",
    "is_abundant = [False]*cap\n",
    "abundant_nums = []\n",
    "for i in range(1, cap+1):\n",
    "    is_abundant[i-1] = checkAbundant(i)\n",
    "    if is_abundant[i-1]: abundant_nums.append(i)\n",
    "\n",
    "# check all nums for sum\n",
    "not_ab_sum = 0\n",
    "for num in range(1, cap+1):\n",
    "    bool_ab = False\n",
    "    for j in range(len(abundant_nums)):\n",
    "        if abundant_nums[j] > num//2: break\n",
    "        target = num - abundant_nums[j]\n",
    "        if is_abundant[target-1]: \n",
    "            bool_ab = True\n",
    "            break\n",
    "    if not bool_ab: not_ab_sum += num\n",
    "\n",
    "print(not_ab_sum)"
   ]
  },
  {
   "cell_type": "code",
   "execution_count": 9,
   "id": "b875ccd3",
   "metadata": {},
   "outputs": [
    {
     "name": "stdout",
     "output_type": "stream",
     "text": [
      "4179871\n"
     ]
    }
   ],
   "source": [
    "from some_functions import factorsList\n",
    "\n",
    "cap = 28123\n",
    "first_ab_sum = 24\n",
    "\n",
    "# check abundant\n",
    "def checkAbundant(n):\n",
    "    fac_sum = 0\n",
    "    for fac in factorsList(n)[:-1]: fac_sum += fac\n",
    "    return fac_sum > n\n",
    "\n",
    "# store abundant nums\n",
    "ab_dup_check = [False]*cap\n",
    "abundant_nums = []\n",
    "for i in range(1, cap+1):\n",
    "    if checkAbundant(i): abundant_nums.append(i)\n",
    "\n",
    "# find sum of all abundant sums\n",
    "ab_sum = 0\n",
    "for i in range(len(abundant_nums)):\n",
    "    if abundant_nums[i]*2 > cap: break\n",
    "    for j in range(len(abundant_nums)):\n",
    "        target_sum = abundant_nums[i] + abundant_nums[j]\n",
    "        if target_sum > cap: break\n",
    "        elif not ab_dup_check[target_sum-1]:\n",
    "            ab_sum += target_sum\n",
    "            ab_dup_check[target_sum-1] = True\n",
    "\n",
    "not_ab_sum = (cap*(cap+1))//2 - ab_sum\n",
    "print(not_ab_sum)"
   ]
  },
  {
   "cell_type": "markdown",
   "id": "cd286e29",
   "metadata": {},
   "source": [
    "#### Problem 24: Lexicographic Permutations"
   ]
  },
  {
   "cell_type": "code",
   "execution_count": null,
   "id": "55fb1461",
   "metadata": {},
   "outputs": [],
   "source": [
    "target_ind = 1000000"
   ]
  },
  {
   "cell_type": "markdown",
   "id": "61c6fce5",
   "metadata": {},
   "source": [
    "#### Problem 25: 1000-digit Fibonacci Number"
   ]
  },
  {
   "cell_type": "code",
   "execution_count": 23,
   "id": "df31ca71",
   "metadata": {},
   "outputs": [
    {
     "name": "stdout",
     "output_type": "stream",
     "text": [
      "4782\n"
     ]
    }
   ],
   "source": [
    "from some_functions import digitList\n",
    "\n",
    "digit_target = 1000\n",
    "i, prev, term = 1, 0, 1\n",
    "\n",
    "while len(digitList(term)) < digit_target:\n",
    "    temp = term\n",
    "    term = prev + term\n",
    "    prev = temp\n",
    "    i += 1\n",
    "\n",
    "print(i)"
   ]
  },
  {
   "cell_type": "markdown",
   "id": "d2a8dd6d",
   "metadata": {},
   "source": [
    "#### Problem 26: Reciprocal Cycles"
   ]
  },
  {
   "cell_type": "code",
   "execution_count": null,
   "id": "445d90b7",
   "metadata": {},
   "outputs": [],
   "source": [
    "max = 1000"
   ]
  },
  {
   "cell_type": "markdown",
   "id": "66c600ab",
   "metadata": {},
   "source": [
    "#### Problem 27: Quadratic Primes"
   ]
  },
  {
   "cell_type": "code",
   "execution_count": 37,
   "id": "c590660d",
   "metadata": {},
   "outputs": [
    {
     "name": "stdout",
     "output_type": "stream",
     "text": [
      "71\n",
      "(-61, 971)\n",
      "-59231\n"
     ]
    }
   ],
   "source": [
    "import math\n",
    "from some_functions import isPrime\n",
    "\n",
    "a_lim, b_lim = 1000, 1000\n",
    "max_length_primes = 0\n",
    "res_a_b = ()\n",
    "\n",
    "def quadraticFunc(n, a, b):\n",
    "    return n*n + a*n + b\n",
    "\n",
    "for a in range(-a_lim+1, a_lim):\n",
    "    for b in range(-b_lim, b_lim+1):\n",
    "        x = 0\n",
    "        while isPrime(quadraticFunc(x, a, b)):\n",
    "            x += 1\n",
    "        if x > max_length_primes:\n",
    "            max_length_primes = x\n",
    "            res_a_b = (a, b)\n",
    "\n",
    "print(max_length_primes)\n",
    "print(res_a_b)\n",
    "print(res_a_b[0]*res_a_b[1])"
   ]
  },
  {
   "cell_type": "markdown",
   "id": "0c721a6b",
   "metadata": {},
   "source": [
    "#### Problem 28: Number Spiral Diagonals"
   ]
  },
  {
   "cell_type": "code",
   "execution_count": null,
   "id": "c63a4675",
   "metadata": {},
   "outputs": [],
   "source": []
  }
 ],
 "metadata": {
  "kernelspec": {
   "display_name": "base",
   "language": "python",
   "name": "python3"
  },
  "language_info": {
   "codemirror_mode": {
    "name": "ipython",
    "version": 3
   },
   "file_extension": ".py",
   "mimetype": "text/x-python",
   "name": "python",
   "nbconvert_exporter": "python",
   "pygments_lexer": "ipython3",
   "version": "3.12.4"
  }
 },
 "nbformat": 4,
 "nbformat_minor": 5
}
