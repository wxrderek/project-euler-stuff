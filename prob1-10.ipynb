{
 "cells": [
  {
   "cell_type": "markdown",
   "id": "23871df2",
   "metadata": {},
   "source": [
    "#### Problem 1: Multiples of 3 or 5"
   ]
  },
  {
   "cell_type": "code",
   "execution_count": 1,
   "id": "57090614",
   "metadata": {},
   "outputs": [
    {
     "name": "stdout",
     "output_type": "stream",
     "text": [
      "233168\n"
     ]
    }
   ],
   "source": [
    "max = 1000\n",
    "res = 0\n",
    "\n",
    "for i in range(1, max):\n",
    "    if i % 3 == 0 or i % 5 == 0:\n",
    "        res += i\n",
    "\n",
    "print(res)"
   ]
  },
  {
   "cell_type": "markdown",
   "id": "7c4a3178",
   "metadata": {},
   "source": [
    "#### Problem 2: Even Fibonacci Numbers"
   ]
  },
  {
   "cell_type": "code",
   "execution_count": 2,
   "id": "82d8bc39",
   "metadata": {},
   "outputs": [
    {
     "name": "stdout",
     "output_type": "stream",
     "text": [
      "4613732\n"
     ]
    }
   ],
   "source": [
    "max = 4000000\n",
    "res, prev, term = 0, 0, 1\n",
    "\n",
    "while term <= max:\n",
    "    if term % 2 == 0:\n",
    "        res += term\n",
    "    temp = term\n",
    "    term = prev + term\n",
    "    prev = temp\n",
    "\n",
    "print(res)"
   ]
  },
  {
   "cell_type": "markdown",
   "id": "466c7d1c",
   "metadata": {},
   "source": [
    "#### Problem 3: Largest Prime Factor"
   ]
  },
  {
   "cell_type": "markdown",
   "id": "2b985058",
   "metadata": {},
   "source": [
    "Note: I have no idea whether this algorithm provides correct prime factorizations for all integers $n$. I have particular doubts about both accuracy and efficiency for any $n$ a product of multiple large primes and composites. It does certainly yield the correct results for $600851475143$ and every other large $n$ I've attempted. ChatGPT claims this works for any $n>1$. "
   ]
  },
  {
   "cell_type": "code",
   "execution_count": 3,
   "id": "30f50c64",
   "metadata": {},
   "outputs": [
    {
     "name": "stdout",
     "output_type": "stream",
     "text": [
      "[71, 839, 1471, 6857]\n",
      "6857\n"
     ]
    }
   ],
   "source": [
    "from some_functions import isPrime\n",
    "from some_functions import primeFactors\n",
    "\n",
    "num = 600851475143\n",
    "res = -1\n",
    "\n",
    "if isPrime(num): res = num\n",
    "else: factors = primeFactors(num)\n",
    "res = factors[-1]\n",
    "\n",
    "print(factors)\n",
    "print(res)"
   ]
  },
  {
   "cell_type": "markdown",
   "id": "b204576d",
   "metadata": {},
   "source": [
    "#### Problem 4: Largest Palindrome Product"
   ]
  },
  {
   "cell_type": "code",
   "execution_count": 4,
   "id": "b767dd37",
   "metadata": {},
   "outputs": [
    {
     "name": "stdout",
     "output_type": "stream",
     "text": [
      "[993, 913]\n",
      "906609\n"
     ]
    }
   ],
   "source": [
    "from some_functions import digitList\n",
    "from some_functions import maxAndIndex\n",
    "\n",
    "max, min = 999, 100\n",
    "factors = []\n",
    "palindrome_list = []\n",
    "res = -1\n",
    "\n",
    "# check if positive integer x is palindrome\n",
    "def isPalindrome(x):\n",
    "    temp_list = digitList(x)\n",
    "    r = len(temp_list)//2\n",
    "    for i in range(r):\n",
    "        if temp_list[i] != temp_list[len(temp_list)-i-1]:\n",
    "            return False\n",
    "    return True\n",
    "\n",
    "# find palindromes in 3 digit products\n",
    "for i in range(max, min-1, -1):\n",
    "    for j in range(i, min-1, -1):\n",
    "        num = i*j\n",
    "        if isPalindrome(num): \n",
    "            factors.append([i,j])\n",
    "            palindrome_list.append(num)\n",
    "\n",
    "res, ind = maxAndIndex(palindrome_list)\n",
    "print(factors[ind])\n",
    "print(res)\n"
   ]
  },
  {
   "cell_type": "markdown",
   "id": "be5973df",
   "metadata": {},
   "source": [
    "#### Problem 5: Smallest Multiple"
   ]
  },
  {
   "cell_type": "markdown",
   "id": "f408b58e",
   "metadata": {},
   "source": [
    "Note: we can intuit the result by comparing the prime factorizations of each integer 2 through 20 and generating a minimal list of factors from which every integer 2 through 20 can be made via selecting without replacement. In other words: how to naively find the least common multiple of a set of integers. In the algorithmic approach, I attempt to extend this to finding the smallest positive number evenly divisible by all integers $1, 2, ... , n$ for some positive integer $n$. "
   ]
  },
  {
   "cell_type": "code",
   "execution_count": 5,
   "id": "f28979f3",
   "metadata": {},
   "outputs": [
    {
     "name": "stdout",
     "output_type": "stream",
     "text": [
      "232792560\n"
     ]
    }
   ],
   "source": [
    "# intuition\n",
    "answer = 19*17*13*11*7*5*3*3*2*2*2*2\n",
    "print(answer)"
   ]
  },
  {
   "cell_type": "code",
   "execution_count": 6,
   "id": "b83b110a",
   "metadata": {},
   "outputs": [
    {
     "name": "stdout",
     "output_type": "stream",
     "text": [
      "[2, 3, 2, 5, 7, 2, 3, 11, 13, 2, 17, 19]\n",
      "232792560\n"
     ]
    }
   ],
   "source": [
    "# algorithmic\n",
    "from some_functions import primeFactors\n",
    "\n",
    "max = 20\n",
    "num_list = []\n",
    "for i in range(2, max+1):\n",
    "    num_list.append(i)\n",
    "\n",
    "# get minimal list of factors\n",
    "fac_list = []\n",
    "temp_list = []\n",
    "for n in num_list:\n",
    "    temp_list = primeFactors(n)\n",
    "    for i in temp_list:\n",
    "        while fac_list.count(i) < temp_list.count(i):\n",
    "            fac_list.append(i)\n",
    "print(fac_list)\n",
    "\n",
    "# get product of minimal list\n",
    "res = 1\n",
    "for i in fac_list:\n",
    "    res *= i\n",
    "print(res)"
   ]
  },
  {
   "cell_type": "markdown",
   "id": "77dc2c1d",
   "metadata": {},
   "source": [
    "#### Problem 6: Sum Square Difference"
   ]
  },
  {
   "cell_type": "code",
   "execution_count": 7,
   "id": "6a571069",
   "metadata": {},
   "outputs": [
    {
     "name": "stdout",
     "output_type": "stream",
     "text": [
      "338350 25502500\n",
      "25164150\n"
     ]
    }
   ],
   "source": [
    "n = 100\n",
    "sum_num, sum_squares = 0, 0\n",
    "\n",
    "for i in range(1, n+1):\n",
    "    sum_num += i\n",
    "    sum_squares += i*i\n",
    "\n",
    "square_sum = sum_num**2\n",
    "print(sum_squares, square_sum)\n",
    "print(square_sum-sum_squares)"
   ]
  },
  {
   "cell_type": "markdown",
   "id": "38b30275",
   "metadata": {},
   "source": [
    "#### Problem 7: 10,001st Prime"
   ]
  },
  {
   "cell_type": "code",
   "execution_count": 8,
   "id": "c67efac7",
   "metadata": {},
   "outputs": [
    {
     "name": "stdout",
     "output_type": "stream",
     "text": [
      "104743\n"
     ]
    }
   ],
   "source": [
    "from some_functions import isPrime\n",
    "\n",
    "ind = 10001\n",
    "i, n, res = 1, 2, -1\n",
    "\n",
    "while i <= ind:\n",
    "    if isPrime(n):\n",
    "        res = n\n",
    "        i += 1\n",
    "    n += 1\n",
    "\n",
    "print(res)"
   ]
  },
  {
   "cell_type": "markdown",
   "id": "76563ab2",
   "metadata": {},
   "source": [
    "#### Problem 8: Largest Product in a Series"
   ]
  },
  {
   "cell_type": "code",
   "execution_count": 9,
   "id": "3cf8da0f",
   "metadata": {},
   "outputs": [
    {
     "name": "stdout",
     "output_type": "stream",
     "text": [
      "[5, 9, 8, 4, 6, 6, 9, 8, 6, 6, 7, 5, 5]\n",
      "23514624000\n"
     ]
    }
   ],
   "source": [
    "from some_functions import digitList\n",
    "\n",
    "num_adj = 13\n",
    "num = 7316717653133062491922511967442657474235534919493496983520312774506326239578318016984801869478851843858615607891129494954595017379583319528532088055111254069874715852386305071569329096329522744304355766896648950445244523161731856403098711121722383113622298934233803081353362766142828064444866452387493035890729629049156044077239071381051585930796086670172427121883998797908792274921901699720888093776657273330010533678812202354218097512545405947522435258490771167055601360483958644670632441572215539753697817977846174064955149290862569321978468622482839722413756570560574902614079729686524145351004748216637048440319989000889524345065854122758866688116427171479924442928230863465674813919123162824586178664583591245665294765456828489128831426076900422421902267105562632111110937054421750694165896040807198403850962455444362981230987879927244284909188845801561660979191338754992005240636899125607176060588611646710940507754100225698315520005593572972571636269561882670428252483600823257530420752963450\n",
    "\n",
    "res, prod = -1, 1\n",
    "digits = []\n",
    "all_digits = digitList(num)\n",
    "for i in range(len(all_digits)-num_adj+1):\n",
    "    for j in range(i, i+num_adj):\n",
    "        prod *= all_digits[j]\n",
    "    if prod > res:\n",
    "        res = prod\n",
    "        digits = all_digits[i:i+num_adj]\n",
    "    prod = 1\n",
    "\n",
    "print(digits)\n",
    "print(res)   \n"
   ]
  },
  {
   "cell_type": "markdown",
   "id": "a22d57b6",
   "metadata": {},
   "source": [
    "#### Problem 9: Special Pythagorean Triplet"
   ]
  },
  {
   "cell_type": "markdown",
   "id": "163d9fc3",
   "metadata": {},
   "source": [
    "Note: the first try algorithm is not an efficient solution. A much more efficient solution avoids iterating through $k$ and checks simply that $i^2 = j^2 + (s - i - j)^2$ where $s = 1000$ is the target sum, implemented in the second try algorithm."
   ]
  },
  {
   "cell_type": "code",
   "execution_count": 10,
   "id": "050dd537",
   "metadata": {},
   "outputs": [
    {
     "name": "stdout",
     "output_type": "stream",
     "text": [
      "[425, 375, 200]\n",
      "31875000\n"
     ]
    }
   ],
   "source": [
    "# first try\n",
    "target_sum = 1000\n",
    "sides = []\n",
    "res = -1\n",
    "\n",
    "for i in range(1, target_sum//2):\n",
    "    for j in range(1, i+1):\n",
    "        for k in range(i-j+1, j+1):\n",
    "            if i*i == j*j + k*k and i+j+k == target_sum:\n",
    "                sides = [i,j,k]\n",
    "                res = i*j*k\n",
    "                break\n",
    "\n",
    "print(sides)\n",
    "print(res)"
   ]
  },
  {
   "cell_type": "code",
   "execution_count": 11,
   "id": "86c9e89b",
   "metadata": {},
   "outputs": [
    {
     "name": "stdout",
     "output_type": "stream",
     "text": [
      "[425, 200, 375]\n",
      "31875000\n"
     ]
    }
   ],
   "source": [
    "# second try\n",
    "target_sum = 1000\n",
    "sides = []\n",
    "res = -1\n",
    "\n",
    "for i in range(1, target_sum//2):\n",
    "    for j in range(1, i+1):\n",
    "        if i**2 == j**2 + (target_sum-i-j)**2:\n",
    "            sides = [i,j,target_sum-i-j]\n",
    "            res = i*j*(target_sum-i-j)\n",
    "            break\n",
    "\n",
    "print(sides)\n",
    "print(res)"
   ]
  },
  {
   "cell_type": "markdown",
   "id": "5ce2b506",
   "metadata": {},
   "source": [
    "#### Problem 10: Summation of Primes"
   ]
  },
  {
   "cell_type": "code",
   "execution_count": 12,
   "id": "2e48082b",
   "metadata": {},
   "outputs": [
    {
     "name": "stdout",
     "output_type": "stream",
     "text": [
      "142913828922\n"
     ]
    }
   ],
   "source": [
    "from some_functions import isPrime\n",
    "\n",
    "n = 2000000\n",
    "res = 0\n",
    "\n",
    "for i in range(2, n):\n",
    "    if isPrime(i): res += i\n",
    "\n",
    "print(res)"
   ]
  }
 ],
 "metadata": {
  "kernelspec": {
   "display_name": "base",
   "language": "python",
   "name": "python3"
  },
  "language_info": {
   "codemirror_mode": {
    "name": "ipython",
    "version": 3
   },
   "file_extension": ".py",
   "mimetype": "text/x-python",
   "name": "python",
   "nbconvert_exporter": "python",
   "pygments_lexer": "ipython3",
   "version": "3.12.4"
  }
 },
 "nbformat": 4,
 "nbformat_minor": 5
}
